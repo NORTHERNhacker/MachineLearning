{
 "cells": [
  {
   "cell_type": "code",
   "execution_count": 2,
   "metadata": {
    "collapsed": true
   },
   "outputs": [],
   "source": [
    "import numpy as np\n",
    "import time\n",
    "import tensorflow as tf\n",
    "\n",
    "# from tensorflow.python\n",
    "\n",
    "with open('F:\\project\\MachineLearning\\DeepLearning\\Data\\Seq2seq\\letters_source.txt', 'r', encoding='utf-8') as f:\n",
    "    source_data = f.read()\n",
    "\n",
    "with open('F:\\project\\MachineLearning\\DeepLearning\\Data\\Seq2seq\\letters_target.txt', 'r', encoding='utf-8') as f:\n",
    "    target_data = f.read()"
   ]
  },
  {
   "cell_type": "code",
   "execution_count": 3,
   "metadata": {
    "collapsed": false
   },
   "outputs": [
    {
     "data": {
      "text/plain": [
       "['bsaqq',\n",
       " 'npy',\n",
       " 'lbwuj',\n",
       " 'bqv',\n",
       " 'kial',\n",
       " 'tddam',\n",
       " 'edxpjpg',\n",
       " 'nspv',\n",
       " 'huloz',\n",
       " 'kmclq',\n",
       " 'ire',\n",
       " 'v',\n",
       " 'pl',\n",
       " 'neab',\n",
       " 'lcak',\n",
       " 'htah',\n",
       " 'f',\n",
       " 'zskzts',\n",
       " 'vlq',\n",
       " 'nzqtek']"
      ]
     },
     "execution_count": 3,
     "metadata": {},
     "output_type": "execute_result"
    }
   ],
   "source": [
    "source_data.split('\\n')[:20]"
   ]
  },
  {
   "cell_type": "code",
   "execution_count": null,
   "metadata": {
    "collapsed": true
   },
   "outputs": [],
   "source": [
    "def extract_character_vocab(data):\n",
    "    '''\n",
    "     构造映射表\n",
    "    :param data: \n",
    "    :return: \n",
    "    '''\n",
    "    special_words = ['<PAD>', '<UNK>', '<GO>', '<EOS>']\n",
    "    set_words = list(set([character for line in data.split('\\n') for character in line]))\n",
    "    # 将四种特殊字符添加进字典\n",
    "    int_to_vocab = {idx : word for idx, word in enumerate(special_words + set_words)}\n",
    "    vocab_to_int = {word : idx for idx, word in int_to_vocab.items()}\n",
    "    return int_to_vocab, vocab_to_int"
   ]
  },
  {
   "cell_type": "code",
   "execution_count": null,
   "metadata": {},
   "outputs": [],
   "source": [
    "# 构造映射表\n",
    "source_int_to_letter, source_letter_to_int = extract_character_vocab(source_data)\n",
    "target_int_to_letter, target_letter_to_int = extract_character_vocab(target_data)\n",
    "\n",
    "#对字符进行转换\n",
    "source_int = [[source_letter_to_int.get(letter, source_letter_to_int['<UNK>'])\n",
    "                for letter in line] for  line in source_data.split('\\n')]\n",
    "target_int = [[target_letter_to_int.get(letter, target_letter_to_int['<UNK>'])\n",
    "               for letter in line] + [target_letter_to_int['<EOS>']] for line in target_data.split('\\n')]"
   ]
  },
  {
   "cell_type": "code",
   "execution_count": null,
   "metadata": {},
   "outputs": [],
   "source": [
    "source_int[:10]"
   ]
  },
  {
   "cell_type": "code",
   "execution_count": null,
   "metadata": {},
   "outputs": [],
   "source": [
    "target_int[:10]"
   ]
  },
  {
   "cell_type": "code",
   "execution_count": null,
   "metadata": {},
   "outputs": [],
   "source": [
    "def get_inputs():\n",
    "    '''\n",
    "    模型输入tensor\n",
    "    :return: \n",
    "    '''\n",
    "    inputs = tf.placeholder(tf.int32, [None, None], name='inputs')\n",
    "    targets = tf.placeholder(tf.int32, [None, None], name='targets')\n",
    "    learning_rate = tf.placeholder(tf.float32, name='learning_rate')\n",
    "    # 定义target序列最大长度\n",
    "    target_sequence_length = tf.placeholder(tf.int32, (None, ), name='target_sequence_length')\n",
    "    source_sequence_length = tf.placeholder(tf.int32, (None, ), name='source_sequence_length')\n",
    "    max_target_sequence_length = tf.reduce_max(target_sequence_length, name='max_target_len')\n",
    "    return inputs, targets, learning_rate, target_sequence_length, max_target_sequence_length, source_sequence_length"
   ]
  },
  {
   "cell_type": "code",
   "execution_count": null,
   "metadata": {},
   "outputs": [],
   "source": [
    "# Encoder\n",
    "def get_encoder_layer(input_data, rnn_size, num_layers, source_sequence_length, source_vocab_size, encoding_embedding_size):\n",
    "    '''\n",
    "     构造encoder层\n",
    "    :param input_data: \n",
    "    :param rnn_size: rnn隐层数量\n",
    "    :param num_layers: \n",
    "    :param source_sequence_length: 源数据的序列长度 \n",
    "    :param source_vocab_size: 源数据的字典大小\n",
    "    :param encoding_embedding_size: embedding大小\n",
    "    :return: \n",
    "    '''\n",
    "    # Encoder embedding\n",
    "    encoder_embed_input = tf.contrib.layers.embed_sequence(input_data, source_vocab_size, encoding_embedding_size)\n",
    "    \n",
    "    # RNN cell\n",
    "    def get_lstm_cell(rnn_size):\n",
    "        lstm_cell = tf.nn.rnn_cell.LSTMCell(rnn_size, initializer=tf.random_uniform_initializer(-0.1, 0.1, seed=2))\n",
    "        return lstm_cell\n",
    "    \n",
    "    cell = tf.nn.rnn_cell.MultiRNNCell([get_lstm_cell(rnn_size)] for _ in range(num_layers))\n",
    "    encoder_output, encoder_state = tf.nn.dynamic_rnn(cell, encoder_embed_input,\n",
    "                                                      sequence_length=source_sequence_length, dtype=tf.float32)\n",
    "    return encoder_output, encoder_state"
   ]
  },
  {
   "cell_type": "code",
   "execution_count": null,
   "metadata": {},
   "outputs": [],
   "source": [
    "# Decoder\n",
    "# 对target数据进行处理\n",
    "def process_decoder_input(data, vocab_to_int, batch_size):\n",
    "    '''\n",
    "     补充<GO>，并移除最后一个字符\n",
    "    :param data: \n",
    "    :param vocab_to_int: \n",
    "    :param batch_size: \n",
    "    :return: \n",
    "    '''\n",
    "    ending = tf.strided_slice(data, [0, 0], [batch_size, -1], [1,1])\n",
    "    decoder_input = tf.concat([tf.fill([batch_size, 1], vocab_to_int['<GO>']), ending], 1)\n",
    "    return ending, decoder_input"
   ]
  },
  {
   "cell_type": "code",
   "execution_count": null,
   "metadata": {},
   "outputs": [],
   "source": [
    "# 对数据进行embedding\n",
    "def decoding_layer(target_letter_to_int, decoding_embedding_size, num_layers, rnn_size,\n",
    "                   target_sequence_length, max_target_sequence_length, encoder_state, decoder_input):\n",
    "    '''\n",
    "     构造decoder层\n",
    "    :param target_letter_to_int: target数据的映射表\n",
    "    :param decoding_embedding_size: embed向量大小\n",
    "    :param num_layers: 堆叠的数量\n",
    "    :param rnn_size: \n",
    "    :param target_sequence_length: \n",
    "    :param max_target_sequence_length: \n",
    "    :param encoder_state: encoder端编码的状态向量\n",
    "    :param decoder_input: decoder端输入\n",
    "    :return: \n",
    "    '''\n",
    "    # 1，Embedding\n",
    "    target_vocab_size = len(target_letter_to_int)\n",
    "    decoder_embeddings = tf.Variable(tf.random_uniform([target_vocab_size, decoding_embedding_size]))\n",
    "    decoder_embed_input = tf.nn.embedding_lookup(decoder_embeddings, decoder_input)\n",
    "    \n",
    "    # 2,构建decoder中的RNN单元\n",
    "    def get_decoder_cell(rnn_size):\n",
    "        decoder_cell = tf.nn.rnn_cell.LSTMCell(rnn_size, initializer=tf.random_uniform_initializer(-0.1, 0.1, seed=2))\n",
    "        return decoder_cell\n",
    "    cell = tf.nn.rnn_cell.MultiRNNCell([get_decoder_cell(rnn_size) for _ in range(num_layers)])\n",
    "    \n",
    "    # 3,获得全连接层\n",
    "    output_layer = tf.layers.dense(target_vocab_size,\n",
    "                         kernel_initializer = tf.truncated_normal_initializer(mean = 0.0, stddev=0.1))\n",
    "    \n",
    "    # 4, Training decoder\n",
    "    with tf.variable_scope('decode'):\n",
    "        # 得到help对象\n",
    "        training_help = tf.contrib.seq2seq.TrainingHelper(inputs=decoder_embed_input, sequence_length=target_sequence_length, \n",
    "                                                          time_major=False)\n",
    "        # 构造decoder\n",
    "        training_decoder = tf.contrib.seq2seq.BasicDecoder(cell, training_help, encoder_state, output_layer)\n",
    "        training_decoder_output, _ = tf.contrib.seq2seq.dynamic_decode(training_decoder,\n",
    "                                                                       impute_finished=True,\n",
    "                                                                       maximum_iteations=max_target_sequence_length)\n",
    "    # 5, Predicting decoder\n",
    "    # 与training共享参数\n",
    "    with tf.variable_scope('decode', reuse=True):\n",
    "        # 创建一个常量tensor并复制为batch_size的大小\n",
    "        start_tokens = tf.tile(tf.constant([target_letter_to_int['GO']], dtype=tf.int32), [batch_size], name='start_tokens')\n",
    "        predicting_helper = tf.contrib.seq2seq.GreedyEmbeddingHelper(decoder_embeddings,\n",
    "                                                                start_tokens,\n",
    "                                                                target_letter_to_int['<EOS>'])\n",
    "        predicting_decoder = tf.contrib.seq2seq.BasicDecoder(cell,\n",
    "                                                        predicting_helper,\n",
    "                                                        encoder_state,\n",
    "                                                        output_layer)\n",
    "        predicting_decoder_output, _ = tf.contrib.seq2seq.dynamic_decode(predicting_decoder,\n",
    "                                                            impute_finished=True,\n",
    "                                                            maximum_iterations=max_target_sequence_length)\n",
    "    \n",
    "    return training_decoder_output, predicting_decoder_output"
   ]
  },
  {
   "cell_type": "code",
   "execution_count": null,
   "metadata": {},
   "outputs": [],
   "source": [
    "# 构建seq2seq模型\n",
    "def seq2seq_model()"
   ]
  }
 ],
 "metadata": {
  "anaconda-cloud": {},
  "kernelspec": {
   "display_name": "Python [conda root]",
   "language": "python",
   "name": "conda-root-py"
  },
  "language_info": {
   "codemirror_mode": {
    "name": "ipython",
    "version": 3
   },
   "file_extension": ".py",
   "mimetype": "text/x-python",
   "name": "python",
   "nbconvert_exporter": "python",
   "pygments_lexer": "ipython3",
   "version": "3.5.2"
  }
 },
 "nbformat": 4,
 "nbformat_minor": 0
}
